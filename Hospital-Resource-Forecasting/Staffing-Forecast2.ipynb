{
 "cells": [
  {
   "cell_type": "code",
   "execution_count": 1,
   "metadata": {},
   "outputs": [],
   "source": [
    "import psycopg2\n",
    "import pandas as pd\n",
    "from tqdm import tqdm\n",
    "import json\n",
    "import warnings\n",
    "warnings.filterwarnings('ignore')\n",
    "\n",
    "# Set display options\n",
    "pd.set_option('display.max_columns', None)  # Show all columns\n",
    "pd.set_option('display.width', None)  # Adjust width to avoid line wrapping\n",
    "pd.set_option('display.max_colwidth', None)  # Display full content in each cell"
   ]
  },
  {
   "cell_type": "code",
   "execution_count": 2,
   "metadata": {},
   "outputs": [
    {
     "name": "stdout",
     "output_type": "stream",
     "text": [
      "PSQL Connection successful!\n"
     ]
    }
   ],
   "source": [
    "\n",
    "host = \"localhost\"\n",
    "port = \"5432\"\n",
    "\n",
    "# PostgreSQL credentials\n",
    "user = \"tanmay\"\n",
    "password = \"pass_postgre1\"\n",
    "database = \"mimic4_clinical_demo\"\n",
    "\n",
    "# Connect to PostgreSQL\n",
    "try:\n",
    "    conn = psycopg2.connect(\n",
    "        host=host,\n",
    "        port=port,\n",
    "        user=user,\n",
    "        password=password,\n",
    "        dbname=database\n",
    "    )\n",
    "    print(\"PSQL Connection successful!\")\n",
    "except Exception as e:\n",
    "    print(f\"Error connecting to database: {e}\")"
   ]
  },
  {
   "cell_type": "code",
   "execution_count": null,
   "metadata": {},
   "outputs": [],
   "source": [
    "# Execute Query\n",
    "def exec_query(query):\n",
    "    try:\n",
    "        # Establish the connection\n",
    "        conn = psycopg2.connect(\n",
    "        host=host,\n",
    "        port=port,\n",
    "        user=user,\n",
    "        password=password,\n",
    "        dbname=database\n",
    "        )\n",
    "        cursor = conn.cursor()\n",
    "        # Execute the query\n",
    "        cursor.execute(query)\n",
    "        # Fetch column names from the cursor\n",
    "        colnames = [desc[0] for desc in cursor.description]\n",
    "        # Fetch all rows of the query\n",
    "        results = cursor.fetchall()\n",
    "        # Create a DataFrame with column names\n",
    "        df = pd.DataFrame(results, columns=colnames)\n",
    "        # Close the cursor and connection\n",
    "        cursor.close()\n",
    "        conn.close()\n",
    "        # Return the DataFrame\n",
    "        return df\n",
    "\n",
    "    except Exception as e:\n",
    "        print(f\"Error executing query: {e}\")\n",
    "        # Roll back the transaction in case of error\n",
    "        conn.rollback()\n",
    "        cursor.close()\n",
    "        conn.close()\n",
    "        return None"
   ]
  },
  {
   "cell_type": "markdown",
   "metadata": {},
   "source": [
    "# 1: Data Extraction & Preprocessing for Staffing Needs"
   ]
  },
  {
   "cell_type": "code",
   "execution_count": 4,
   "metadata": {},
   "outputs": [
    {
     "data": {
      "text/html": [
       "<div>\n",
       "<style scoped>\n",
       "    .dataframe tbody tr th:only-of-type {\n",
       "        vertical-align: middle;\n",
       "    }\n",
       "\n",
       "    .dataframe tbody tr th {\n",
       "        vertical-align: top;\n",
       "    }\n",
       "\n",
       "    .dataframe thead th {\n",
       "        text-align: right;\n",
       "    }\n",
       "</style>\n",
       "<table border=\"1\" class=\"dataframe\">\n",
       "  <thead>\n",
       "    <tr style=\"text-align: right;\">\n",
       "      <th></th>\n",
       "      <th>admittime</th>\n",
       "      <th>shift</th>\n",
       "      <th>admission_count</th>\n",
       "    </tr>\n",
       "  </thead>\n",
       "  <tbody>\n",
       "    <tr>\n",
       "      <th>0</th>\n",
       "      <td>2110-04-11 15:08:00</td>\n",
       "      <td>Afternoon</td>\n",
       "      <td>1</td>\n",
       "    </tr>\n",
       "    <tr>\n",
       "      <th>1</th>\n",
       "      <td>2110-11-30 06:31:00</td>\n",
       "      <td>Morning</td>\n",
       "      <td>1</td>\n",
       "    </tr>\n",
       "    <tr>\n",
       "      <th>2</th>\n",
       "      <td>2111-01-15 14:55:00</td>\n",
       "      <td>Afternoon</td>\n",
       "      <td>1</td>\n",
       "    </tr>\n",
       "    <tr>\n",
       "      <th>3</th>\n",
       "      <td>2111-11-13 23:39:00</td>\n",
       "      <td>Night</td>\n",
       "      <td>1</td>\n",
       "    </tr>\n",
       "    <tr>\n",
       "      <th>4</th>\n",
       "      <td>2112-09-17 19:13:00</td>\n",
       "      <td>Afternoon</td>\n",
       "      <td>1</td>\n",
       "    </tr>\n",
       "    <tr>\n",
       "      <th>...</th>\n",
       "      <td>...</td>\n",
       "      <td>...</td>\n",
       "      <td>...</td>\n",
       "    </tr>\n",
       "    <tr>\n",
       "      <th>269</th>\n",
       "      <td>2201-02-12 16:58:00</td>\n",
       "      <td>Afternoon</td>\n",
       "      <td>1</td>\n",
       "    </tr>\n",
       "    <tr>\n",
       "      <th>270</th>\n",
       "      <td>2201-03-23 19:15:00</td>\n",
       "      <td>Afternoon</td>\n",
       "      <td>1</td>\n",
       "    </tr>\n",
       "    <tr>\n",
       "      <th>271</th>\n",
       "      <td>2201-07-07 18:15:00</td>\n",
       "      <td>Afternoon</td>\n",
       "      <td>1</td>\n",
       "    </tr>\n",
       "    <tr>\n",
       "      <th>272</th>\n",
       "      <td>2201-10-30 12:05:00</td>\n",
       "      <td>Morning</td>\n",
       "      <td>1</td>\n",
       "    </tr>\n",
       "    <tr>\n",
       "      <th>273</th>\n",
       "      <td>2201-12-11 12:00:00</td>\n",
       "      <td>Morning</td>\n",
       "      <td>1</td>\n",
       "    </tr>\n",
       "  </tbody>\n",
       "</table>\n",
       "<p>274 rows × 3 columns</p>\n",
       "</div>"
      ],
      "text/plain": [
       "              admittime      shift  admission_count\n",
       "0   2110-04-11 15:08:00  Afternoon                1\n",
       "1   2110-11-30 06:31:00    Morning                1\n",
       "2   2111-01-15 14:55:00  Afternoon                1\n",
       "3   2111-11-13 23:39:00      Night                1\n",
       "4   2112-09-17 19:13:00  Afternoon                1\n",
       "..                  ...        ...              ...\n",
       "269 2201-02-12 16:58:00  Afternoon                1\n",
       "270 2201-03-23 19:15:00  Afternoon                1\n",
       "271 2201-07-07 18:15:00  Afternoon                1\n",
       "272 2201-10-30 12:05:00    Morning                1\n",
       "273 2201-12-11 12:00:00    Morning                1\n",
       "\n",
       "[274 rows x 3 columns]"
      ]
     },
     "metadata": {},
     "output_type": "display_data"
    }
   ],
   "source": [
    "# Extract admissions and discharge time\n",
    "query = \"\"\"\n",
    "SELECT hadm_id, admittime, dischtime\n",
    "FROM admissions\n",
    "WHERE admittime IS NOT NULL AND dischtime IS NOT NULL;\n",
    "\"\"\"\n",
    "\n",
    "staffing_df = exec_query(query)\n",
    "\n",
    "# Convert timestamps to datetime\n",
    "staffing_df[\"admittime\"] = pd.to_datetime(staffing_df[\"admittime\"])\n",
    "staffing_df[\"dischtime\"] = pd.to_datetime(staffing_df[\"dischtime\"])\n",
    "\n",
    "# Extract Shift Information\n",
    "def get_shift(hour):\n",
    "    if 6 <= hour < 14:\n",
    "        return \"Morning\"\n",
    "    elif 14 <= hour < 22:\n",
    "        return \"Afternoon\"\n",
    "    else:\n",
    "        return \"Night\"\n",
    "\n",
    "staffing_df[\"shift\"] = staffing_df[\"admittime\"].dt.hour.apply(get_shift)\n",
    "\n",
    "# Aggregate admissions per shift\n",
    "staffing_shift_df = staffing_df.groupby([\"admittime\", \"shift\"]).size().reset_index(name=\"admission_count\")\n",
    "\n",
    "display(staffing_shift_df)\n"
   ]
  },
  {
   "cell_type": "markdown",
   "metadata": {},
   "source": [
    "#  2: Feature Engineering for Staffing Needs Forecasting"
   ]
  },
  {
   "cell_type": "code",
   "execution_count": 5,
   "metadata": {},
   "outputs": [
    {
     "data": {
      "text/html": [
       "<div>\n",
       "<style scoped>\n",
       "    .dataframe tbody tr th:only-of-type {\n",
       "        vertical-align: middle;\n",
       "    }\n",
       "\n",
       "    .dataframe tbody tr th {\n",
       "        vertical-align: top;\n",
       "    }\n",
       "\n",
       "    .dataframe thead th {\n",
       "        text-align: right;\n",
       "    }\n",
       "</style>\n",
       "<table border=\"1\" class=\"dataframe\">\n",
       "  <thead>\n",
       "    <tr style=\"text-align: right;\">\n",
       "      <th></th>\n",
       "      <th>date</th>\n",
       "      <th>shift</th>\n",
       "      <th>admission_count</th>\n",
       "      <th>day_of_week</th>\n",
       "      <th>month</th>\n",
       "      <th>shift_encoded</th>\n",
       "    </tr>\n",
       "  </thead>\n",
       "  <tbody>\n",
       "    <tr>\n",
       "      <th>0</th>\n",
       "      <td>2110-04-11</td>\n",
       "      <td>Afternoon</td>\n",
       "      <td>1</td>\n",
       "      <td>4</td>\n",
       "      <td>4</td>\n",
       "      <td>1</td>\n",
       "    </tr>\n",
       "    <tr>\n",
       "      <th>1</th>\n",
       "      <td>2110-11-30</td>\n",
       "      <td>Morning</td>\n",
       "      <td>1</td>\n",
       "      <td>6</td>\n",
       "      <td>11</td>\n",
       "      <td>0</td>\n",
       "    </tr>\n",
       "    <tr>\n",
       "      <th>2</th>\n",
       "      <td>2111-01-15</td>\n",
       "      <td>Afternoon</td>\n",
       "      <td>1</td>\n",
       "      <td>3</td>\n",
       "      <td>1</td>\n",
       "      <td>1</td>\n",
       "    </tr>\n",
       "    <tr>\n",
       "      <th>3</th>\n",
       "      <td>2111-11-13</td>\n",
       "      <td>Night</td>\n",
       "      <td>1</td>\n",
       "      <td>4</td>\n",
       "      <td>11</td>\n",
       "      <td>2</td>\n",
       "    </tr>\n",
       "    <tr>\n",
       "      <th>4</th>\n",
       "      <td>2112-09-17</td>\n",
       "      <td>Afternoon</td>\n",
       "      <td>1</td>\n",
       "      <td>5</td>\n",
       "      <td>9</td>\n",
       "      <td>1</td>\n",
       "    </tr>\n",
       "  </tbody>\n",
       "</table>\n",
       "</div>"
      ],
      "text/plain": [
       "        date      shift  admission_count  day_of_week  month  shift_encoded\n",
       "0 2110-04-11  Afternoon                1            4      4              1\n",
       "1 2110-11-30    Morning                1            6     11              0\n",
       "2 2111-01-15  Afternoon                1            3      1              1\n",
       "3 2111-11-13      Night                1            4     11              2\n",
       "4 2112-09-17  Afternoon                1            5      9              1"
      ]
     },
     "metadata": {},
     "output_type": "display_data"
    }
   ],
   "source": [
    "# Convert admittime to date for aggregation\n",
    "staffing_shift_df[\"date\"] = staffing_shift_df[\"admittime\"].dt.date\n",
    "staffing_shift_df[\"day_of_week\"] = staffing_shift_df[\"admittime\"].dt.dayofweek  # 0=Monday, 6=Sunday\n",
    "staffing_shift_df[\"month\"] = staffing_shift_df[\"admittime\"].dt.month\n",
    "\n",
    "# Aggregate admissions per shift on a daily level\n",
    "daily_staffing_df = staffing_shift_df.groupby([\"date\", \"shift\"]).agg({\n",
    "    \"admission_count\": \"sum\",\n",
    "    \"day_of_week\": \"first\",\n",
    "    \"month\": \"first\"\n",
    "}).reset_index()\n",
    "\n",
    "# Convert date to datetime for modeling\n",
    "daily_staffing_df[\"date\"] = pd.to_datetime(daily_staffing_df[\"date\"])\n",
    "\n",
    "# Encode Shift as Numerical Values\n",
    "shift_mapping = {\"Morning\": 0, \"Afternoon\": 1, \"Night\": 2}\n",
    "daily_staffing_df[\"shift_encoded\"] = daily_staffing_df[\"shift\"].map(shift_mapping)\n",
    "\n",
    "# Display processed features\n",
    "display(daily_staffing_df.head())\n"
   ]
  },
  {
   "cell_type": "markdown",
   "metadata": {},
   "source": [
    "# 3: Train the Model"
   ]
  },
  {
   "cell_type": "code",
   "execution_count": null,
   "metadata": {},
   "outputs": [],
   "source": [
    "from sklearn.model_selection import train_test_split\n",
    "from sklearn.ensemble import RandomForestRegressor\n",
    "from xgboost import XGBRegressor\n",
    "from sklearn.metrics import mean_absolute_error, mean_squared_error\n",
    "import numpy as np\n",
    "\n",
    "# Sort data by date for time-series forecasting\n",
    "daily_staffing_df = daily_staffing_df.sort_values(\"date\")\n",
    "\n",
    "# Features & Target\n",
    "X = daily_staffing_df[[\"day_of_week\", \"month\", \"shift_encoded\"]]\n",
    "y = daily_staffing_df[\"admission_count\"]\n",
    "\n",
    "# Train-Test Split (80-20)\n",
    "X_train, X_test, y_train, y_test = train_test_split(X, y, test_size=0.2, shuffle=False)\n",
    "\n",
    "# Initialize Model (Choose One)\n",
    "rf_model = RandomForestRegressor(n_estimators=100, random_state=42)\n",
    "xgb_model = XGBRegressor(n_estimators=100, learning_rate=0.1, random_state=42)\n",
    "\n",
    "# Train Model\n",
    "rf_model.fit(X_train, y_train)\n",
    "xgb_model.fit(X_train, y_train)\n",
    "\n",
    "# Predictions\n",
    "rf_pred = rf_model.predict(X_test)\n",
    "xgb_pred = xgb_model.predict(X_test)\n",
    "\n",
    "# Evaluation Metrics\n",
    "rf_mae = mean_absolute_error(y_test, rf_pred)\n",
    "rf_rmse = np.sqrt(mean_squared_error(y_test, rf_pred))\n",
    "\n",
    "xgb_mae = mean_absolute_error(y_test, xgb_pred)\n",
    "xgb_rmse = np.sqrt(mean_squared_error(y_test, xgb_pred))\n"
   ]
  },
  {
   "cell_type": "code",
   "execution_count": 9,
   "metadata": {},
   "outputs": [
    {
     "name": "stdout",
     "output_type": "stream",
     "text": [
      "Random Forest MAE: 0.0182, RMSE: 0.1348\n",
      "XGBoost MAE: 0.0182, RMSE: 0.1348\n"
     ]
    }
   ],
   "source": [
    "# Print Results\n",
    "print(f\"Random Forest MAE: {rf_mae:.4f}, RMSE: {rf_rmse:.4f}\")\n",
    "print(f\"XGBoost MAE: {xgb_mae:.4f}, RMSE: {xgb_rmse:.4f}\")"
   ]
  },
  {
   "cell_type": "code",
   "execution_count": 10,
   "metadata": {},
   "outputs": [],
   "source": [
    "import numpy as np\n",
    "import matplotlib.pyplot as plt\n",
    "\n",
    "# Generate future dates for the next 30 days\n",
    "future_dates = pd.date_range(start=daily_staffing_df[\"date\"].max(), periods=31, freq=\"D\")[1:]\n",
    "\n",
    "# Create a DataFrame for prediction\n",
    "future_df = pd.DataFrame(future_dates, columns=[\"date\"])\n",
    "\n",
    "# Extract day_of_week and month features\n",
    "future_df[\"day_of_week\"] = future_df[\"date\"].dt.dayofweek\n",
    "future_df[\"month\"] = future_df[\"date\"].dt.month\n",
    "\n",
    "# Assign shift categories (Morning, Afternoon, Night)\n",
    "shifts = [\"Morning\", \"Afternoon\", \"Night\"]\n",
    "future_df = future_df.loc[future_df.index.repeat(3)]  # Repeat each day for all shifts\n",
    "future_df[\"shift\"] = shifts * (len(future_df) // 3)\n",
    "\n",
    "# Encode shift column\n",
    "shift_encoding = {\"Morning\": 0, \"Afternoon\": 1, \"Night\": 2}\n",
    "future_df[\"shift_encoded\"] = future_df[\"shift\"].map(shift_encoding)\n",
    "\n",
    "# Predict future admission counts\n",
    "X_future = future_df[[\"day_of_week\", \"month\", \"shift_encoded\"]]\n",
    "future_df[\"predicted_admission_count\"] = xgb_model.predict(X_future)\n",
    "\n"
   ]
  },
  {
   "cell_type": "code",
   "execution_count": 11,
   "metadata": {},
   "outputs": [
    {
     "data": {
      "image/png": "[encoded data removed]",
      "text/plain": [
       "<Figure size 864x360 with 1 Axes>"
      ]
     },
     "metadata": {
      "needs_background": "light"
     },
     "output_type": "display_data"
    }
   ],
   "source": [
    "# Plot Future Forecast\n",
    "plt.figure(figsize=(12, 5))\n",
    "for shift in shifts:\n",
    "    shift_data = future_df[future_df[\"shift\"] == shift]\n",
    "    plt.plot(shift_data[\"date\"], shift_data[\"predicted_admission_count\"], marker=\"o\", label=shift)\n",
    "\n",
    "plt.xlabel(\"Date\")\n",
    "plt.ylabel(\"Predicted Admissions\")\n",
    "plt.title(\"Forecasted Hospital Staffing Needs per Shift (Next 30 Days)\")\n",
    "plt.legend()\n",
    "plt.xticks(rotation=45)\n",
    "plt.grid()\n",
    "plt.show()"
   ]
  },
  {
   "cell_type": "markdown",
   "metadata": {},
   "source": [
    "### Based on the result - Checking data distribution"
   ]
  },
  {
   "cell_type": "code",
   "execution_count": 13,
   "metadata": {},
   "outputs": [
    {
     "data": {
      "image/png": "[encoded data removed]",
      "text/plain": [
       "<Figure size 432x288 with 1 Axes>"
      ]
     },
     "metadata": {
      "needs_background": "light"
     },
     "output_type": "display_data"
    }
   ],
   "source": [
    "import seaborn as sns\n",
    "import matplotlib.pyplot as plt\n",
    "\n",
    "# Count admissions per shift\n",
    "shift_counts = daily_staffing_df.groupby(\"shift\")[\"admission_count\"].sum().reset_index()\n",
    "\n",
    "# Plot shift distribution\n",
    "plt.figure(figsize=(6, 4))\n",
    "sns.barplot(x=\"shift\", y=\"admission_count\", data=shift_counts, palette=\"coolwarm\")\n",
    "plt.xlabel(\"Shift\")\n",
    "plt.ylabel(\"Total Admissions\")\n",
    "plt.title(\"Distribution of Admissions Across Shifts\")\n",
    "plt.show()"
   ]
  },
  {
   "cell_type": "markdown",
   "metadata": {},
   "source": [
    "### Perform Oversampling\n",
    "We will duplicate Morning (60 → 120) and Night (90 → 120) to match Afternoon."
   ]
  },
  {
   "cell_type": "code",
   "execution_count": 14,
   "metadata": {},
   "outputs": [
    {
     "name": "stdout",
     "output_type": "stream",
     "text": [
      "Balanced Dataset Shift Counts:\n",
      " Afternoon    123\n",
      "Morning      120\n",
      "Night        120\n",
      "Name: shift, dtype: int64\n"
     ]
    }
   ],
   "source": [
    "from sklearn.utils import resample\n",
    "\n",
    "# Separate classes\n",
    "morning = daily_staffing_df[daily_staffing_df[\"shift\"] == \"Morning\"]\n",
    "afternoon = daily_staffing_df[daily_staffing_df[\"shift\"] == \"Afternoon\"]\n",
    "night = daily_staffing_df[daily_staffing_df[\"shift\"] == \"Night\"]\n",
    "\n",
    "# Oversample morning and night shifts to match Afternoon count (120)\n",
    "morning_upsampled = resample(morning, replace=True, n_samples=120, random_state=42)\n",
    "night_upsampled = resample(night, replace=True, n_samples=120, random_state=42)\n",
    "\n",
    "# Combine all datasets\n",
    "balanced_df = pd.concat([morning_upsampled, afternoon, night_upsampled])\n",
    "\n",
    "# Check final shift distribution\n",
    "print(\"Balanced Dataset Shift Counts:\\n\", balanced_df[\"shift\"].value_counts())\n"
   ]
  },
  {
   "cell_type": "markdown",
   "metadata": {},
   "source": [
    "### Retrain & Forecast Again\n",
    "Since we oversampled, we need to retrain Random Forest & XGBoost with the balanced dataset."
   ]
  },
  {
   "cell_type": "code",
   "execution_count": 15,
   "metadata": {},
   "outputs": [
    {
     "data": {
      "text/html": [
       "<style>#sk-container-id-1 {color: black;}#sk-container-id-1 pre{padding: 0;}#sk-container-id-1 div.sk-toggleable {background-color: white;}#sk-container-id-1 label.sk-toggleable__label {cursor: pointer;display: block;width: 100%;margin-bottom: 0;padding: 0.3em;box-sizing: border-box;text-align: center;}#sk-container-id-1 label.sk-toggleable__label-arrow:before {content: \"▸\";float: left;margin-right: 0.25em;color: #696969;}#sk-container-id-1 label.sk-toggleable__label-arrow:hover:before {color: black;}#sk-container-id-1 div.sk-estimator:hover label.sk-toggleable__label-arrow:before {color: black;}#sk-container-id-1 div.sk-toggleable__content {max-height: 0;max-width: 0;overflow: hidden;text-align: left;background-color: #f0f8ff;}#sk-container-id-1 div.sk-toggleable__content pre {margin: 0.2em;color: black;border-radius: 0.25em;background-color: #f0f8ff;}#sk-container-id-1 input.sk-toggleable__control:checked~div.sk-toggleable__content {max-height: 200px;max-width: 100%;overflow: auto;}#sk-container-id-1 input.sk-toggleable__control:checked~label.sk-toggleable__label-arrow:before {content: \"▾\";}#sk-container-id-1 div.sk-estimator input.sk-toggleable__control:checked~label.sk-toggleable__label {background-color: #d4ebff;}#sk-container-id-1 div.sk-label input.sk-toggleable__control:checked~label.sk-toggleable__label {background-color: #d4ebff;}#sk-container-id-1 input.sk-hidden--visually {border: 0;clip: rect(1px 1px 1px 1px);clip: rect(1px, 1px, 1px, 1px);height: 1px;margin: -1px;overflow: hidden;padding: 0;position: absolute;width: 1px;}#sk-container-id-1 div.sk-estimator {font-family: monospace;background-color: #f0f8ff;border: 1px dotted black;border-radius: 0.25em;box-sizing: border-box;margin-bottom: 0.5em;}#sk-container-id-1 div.sk-estimator:hover {background-color: #d4ebff;}#sk-container-id-1 div.sk-parallel-item::after {content: \"\";width: 100%;border-bottom: 1px solid gray;flex-grow: 1;}#sk-container-id-1 div.sk-label:hover label.sk-toggleable__label {background-color: #d4ebff;}#sk-container-id-1 div.sk-serial::before {content: \"\";position: absolute;border-left: 1px solid gray;box-sizing: border-box;top: 0;bottom: 0;left: 50%;z-index: 0;}#sk-container-id-1 div.sk-serial {display: flex;flex-direction: column;align-items: center;background-color: white;padding-right: 0.2em;padding-left: 0.2em;position: relative;}#sk-container-id-1 div.sk-item {position: relative;z-index: 1;}#sk-container-id-1 div.sk-parallel {display: flex;align-items: stretch;justify-content: center;background-color: white;position: relative;}#sk-container-id-1 div.sk-item::before, #sk-container-id-1 div.sk-parallel-item::before {content: \"\";position: absolute;border-left: 1px solid gray;box-sizing: border-box;top: 0;bottom: 0;left: 50%;z-index: -1;}#sk-container-id-1 div.sk-parallel-item {display: flex;flex-direction: column;z-index: 1;position: relative;background-color: white;}#sk-container-id-1 div.sk-parallel-item:first-child::after {align-self: flex-end;width: 50%;}#sk-container-id-1 div.sk-parallel-item:last-child::after {align-self: flex-start;width: 50%;}#sk-container-id-1 div.sk-parallel-item:only-child::after {width: 0;}#sk-container-id-1 div.sk-dashed-wrapped {border: 1px dashed gray;margin: 0 0.4em 0.5em 0.4em;box-sizing: border-box;padding-bottom: 0.4em;background-color: white;}#sk-container-id-1 div.sk-label label {font-family: monospace;font-weight: bold;display: inline-block;line-height: 1.2em;}#sk-container-id-1 div.sk-label-container {text-align: center;}#sk-container-id-1 div.sk-container {/* jupyter's `normalize.less` sets `[hidden] { display: none; }` but bootstrap.min.css set `[hidden] { display: none !important; }` so we also need the `!important` here to be able to override the default hidden behavior on the sphinx rendered scikit-learn.org. See: https://github.com/scikit-learn/scikit-learn/issues/21755 */display: inline-block !important;position: relative;}#sk-container-id-1 div.sk-text-repr-fallback {display: none;}</style><div id=\"sk-container-id-1\" class=\"sk-top-container\"><div class=\"sk-text-repr-fallback\"><pre>XGBRegressor(base_score=None, booster=None, callbacks=None,\n",
       "             colsample_bylevel=None, colsample_bynode=None,\n",
       "             colsample_bytree=None, device=None, early_stopping_rounds=None,\n",
       "             enable_categorical=False, eval_metric=None, feature_types=None,\n",
       "             gamma=None, grow_policy=None, importance_type=None,\n",
       "             interaction_constraints=None, learning_rate=0.1, max_bin=None,\n",
       "             max_cat_threshold=None, max_cat_to_onehot=None,\n",
       "             max_delta_step=None, max_depth=None, max_leaves=None,\n",
       "             min_child_weight=None, missing=nan, monotone_constraints=None,\n",
       "             multi_strategy=None, n_estimators=100, n_jobs=None,\n",
       "             num_parallel_tree=None, random_state=42, ...)</pre><b>In a Jupyter environment, please rerun this cell to show the HTML representation or trust the notebook. <br />On GitHub, the HTML representation is unable to render, please try loading this page with nbviewer.org.</b></div><div class=\"sk-container\" hidden><div class=\"sk-item\"><div class=\"sk-estimator sk-toggleable\"><input class=\"sk-toggleable__control sk-hidden--visually\" id=\"sk-estimator-id-1\" type=\"checkbox\" checked><label for=\"sk-estimator-id-1\" class=\"sk-toggleable__label sk-toggleable__label-arrow\">XGBRegressor</label><div class=\"sk-toggleable__content\"><pre>XGBRegressor(base_score=None, booster=None, callbacks=None,\n",
       "             colsample_bylevel=None, colsample_bynode=None,\n",
       "             colsample_bytree=None, device=None, early_stopping_rounds=None,\n",
       "             enable_categorical=False, eval_metric=None, feature_types=None,\n",
       "             gamma=None, grow_policy=None, importance_type=None,\n",
       "             interaction_constraints=None, learning_rate=0.1, max_bin=None,\n",
       "             max_cat_threshold=None, max_cat_to_onehot=None,\n",
       "             max_delta_step=None, max_depth=None, max_leaves=None,\n",
       "             min_child_weight=None, missing=nan, monotone_constraints=None,\n",
       "             multi_strategy=None, n_estimators=100, n_jobs=None,\n",
       "             num_parallel_tree=None, random_state=42, ...)</pre></div></div></div></div></div>"
      ],
      "text/plain": [
       "XGBRegressor(base_score=None, booster=None, callbacks=None,\n",
       "             colsample_bylevel=None, colsample_bynode=None,\n",
       "             colsample_bytree=None, device=None, early_stopping_rounds=None,\n",
       "             enable_categorical=False, eval_metric=None, feature_types=None,\n",
       "             gamma=None, grow_policy=None, importance_type=None,\n",
       "             interaction_constraints=None, learning_rate=0.1, max_bin=None,\n",
       "             max_cat_threshold=None, max_cat_to_onehot=None,\n",
       "             max_delta_step=None, max_depth=None, max_leaves=None,\n",
       "             min_child_weight=None, missing=nan, monotone_constraints=None,\n",
       "             multi_strategy=None, n_estimators=100, n_jobs=None,\n",
       "             num_parallel_tree=None, random_state=42, ...)"
      ]
     },
     "execution_count": 15,
     "metadata": {},
     "output_type": "execute_result"
    }
   ],
   "source": [
    "# Encode shift column\n",
    "shift_encoding = {\"Morning\": 0, \"Afternoon\": 1, \"Night\": 2}\n",
    "balanced_df[\"shift_encoded\"] = balanced_df[\"shift\"].map(shift_encoding)\n",
    "\n",
    "X_balanced = balanced_df[[\"day_of_week\", \"month\", \"shift_encoded\"]]\n",
    "y_balanced = balanced_df[\"admission_count\"]\n",
    "\n",
    "from xgboost import XGBRegressor\n",
    "from sklearn.ensemble import RandomForestRegressor\n",
    "\n",
    "# Train Random Forest\n",
    "rf_model = RandomForestRegressor(n_estimators=100, random_state=42)\n",
    "rf_model.fit(X_balanced, y_balanced)\n",
    "\n",
    "# Train XGBoost\n",
    "xgb_model = XGBRegressor(n_estimators=100, learning_rate=0.1, random_state=42)\n",
    "xgb_model.fit(X_balanced, y_balanced)\n"
   ]
  },
  {
   "cell_type": "markdown",
   "metadata": {},
   "source": [
    "### Forecast Again & Evaluate"
   ]
  },
  {
   "cell_type": "code",
   "execution_count": 16,
   "metadata": {},
   "outputs": [
    {
     "name": "stdout",
     "output_type": "stream",
     "text": [
      "Random Forest MAE: 0.0078, RMSE: 0.0608\n",
      "XGBoost MAE: 0.0074, RMSE: 0.0606\n"
     ]
    }
   ],
   "source": [
    "from sklearn.metrics import mean_absolute_error, mean_squared_error\n",
    "import numpy as np\n",
    "\n",
    "# Predictions\n",
    "rf_pred = rf_model.predict(X_balanced)\n",
    "xgb_pred = xgb_model.predict(X_balanced)\n",
    "\n",
    "# Evaluate models\n",
    "rf_mae = mean_absolute_error(y_balanced, rf_pred)\n",
    "rf_rmse = np.sqrt(mean_squared_error(y_balanced, rf_pred))\n",
    "\n",
    "xgb_mae = mean_absolute_error(y_balanced, xgb_pred)\n",
    "xgb_rmse = np.sqrt(mean_squared_error(y_balanced, xgb_pred))\n",
    "\n",
    "print(f\"Random Forest MAE: {rf_mae:.4f}, RMSE: {rf_rmse:.4f}\")\n",
    "print(f\"XGBoost MAE: {xgb_mae:.4f}, RMSE: {xgb_rmse:.4f}\")\n"
   ]
  },
  {
   "cell_type": "markdown",
   "metadata": {},
   "source": [
    "### Visualize Shift-wise Predictions\n",
    "Plot the forecasted hospital staffing needs per shift over the next 30 days ugin XGB Model."
   ]
  },
  {
   "cell_type": "code",
   "execution_count": null,
   "metadata": {},
   "outputs": [],
   "source": [
    "from datetime import datetime, timedelta\n",
    "\n",
    "# Create future date range for next 30 days\n",
    "future_dates = [datetime.today() + timedelta(days=i) for i in range(30)]\n",
    "\n",
    "# Generate shift assignments for future dates (cycling through Morning, Afternoon, Night)\n",
    "future_shifts = [\"Morning\", \"Afternoon\", \"Night\"] * 10\n",
    "\n",
    "# Create dataframe\n",
    "future_df = pd.DataFrame({\"date\": future_dates, \"shift\": future_shifts})\n",
    "\n",
    "# Encode categorical features\n",
    "shift_encoding = {\"Morning\": 0, \"Afternoon\": 1, \"Night\": 2}\n",
    "future_df[\"shift_encoded\"] = future_df[\"shift\"].map(shift_encoding)\n",
    "\n",
    "# Extract **day_of_week** and **month** for consistency with training data\n",
    "future_df[\"day_of_week\"] = [date.weekday() for date in future_df[\"date\"]]\n",
    "future_df[\"month\"] = [date.month for date in future_df[\"date\"]]\n",
    "\n",
    "# Prepare feature set for prediction (MUST match training features)\n",
    "X_future = future_df[rf_model.feature_names_in_]  # Use exact order from training\n",
    "\n",
    "\n",
    "# Predict using trained xgb model\n",
    "future_df[\"xgb_predicted_admission_count\"] = xgb_model.predict(X_future)\n"
   ]
  },
  {
   "cell_type": "code",
   "execution_count": 25,
   "metadata": {},
   "outputs": [
    {
     "data": {
      "image/png": "[encoded data removed]",
      "text/plain": [
       "<Figure size 864x360 with 1 Axes>"
      ]
     },
     "metadata": {
      "needs_background": "light"
     },
     "output_type": "display_data"
    }
   ],
   "source": [
    "import matplotlib.pyplot as plt\n",
    "\n",
    "# Plot Future Forecast\n",
    "plt.figure(figsize=(12, 5))\n",
    "shifts = [\"Morning\", \"Afternoon\", \"Night\"]\n",
    "\n",
    "for shift in shifts:\n",
    "    shift_data = future_df[future_df[\"shift\"] == shift]\n",
    "    plt.plot(shift_data[\"date\"], shift_data[\"xgb_predicted_admission_count\"], marker=\"o\", label=f\"XGB - {shift}\")\n",
    "\n",
    "plt.xlabel(\"Date\")\n",
    "plt.ylabel(\"Predicted Admissions\")\n",
    "plt.title(\"Forecasted Hospital Staffing Needs per Shift (Next 30 Days)\")\n",
    "plt.legend()\n",
    "plt.xticks(rotation=45)\n",
    "plt.grid()\n",
    "plt.show()\n"
   ]
  },
  {
   "cell_type": "code",
   "execution_count": null,
   "metadata": {},
   "outputs": [],
   "source": []
  }
 ],
 "metadata": {
  "kernelspec": {
   "display_name": "Python 3",
   "language": "python",
   "name": "python3"
  },
  "language_info": {
   "codemirror_mode": {
    "name": "ipython",
    "version": 3
   },
   "file_extension": ".py",
   "mimetype": "text/x-python",
   "name": "python",
   "nbconvert_exporter": "python",
   "pygments_lexer": "ipython3",
   "version": "3.8.10"
  }
 },
 "nbformat": 4,
 "nbformat_minor": 2
}
